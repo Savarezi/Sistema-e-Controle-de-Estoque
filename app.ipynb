{
 "cells": [
  {
   "cell_type": "markdown",
   "metadata": {},
   "source": [
    "# Sistema e Controle de Estoque"
   ]
  },
  {
   "cell_type": "markdown",
   "metadata": {},
   "source": [
    "Aqui, estou conectando ao banco de dados estoque.db e criando a tabela produtos se ela não existir. A tabela possui colunas para o id do produto, nome, quantidade e preço.\n",
    "\n"
   ]
  },
  {
   "cell_type": "code",
   "execution_count": 1,
   "metadata": {},
   "outputs": [],
   "source": [
    "# Importando a biblioteca SQLite para criar e gerenciar o banco de dados\n",
    "import sqlite3\n",
    "\n",
    "# Função para conectar ao banco de dados e criar a tabela de produtos\n",
    "def connect_db():\n",
    "    conn = sqlite3.connect('estoque.db')  # Conecta ou cria o banco de dados 'estoque.db'\n",
    "    cursor = conn.cursor()  # Cria um cursor para executar comandos SQL\n",
    "    # Cria a tabela de produtos, se ela não existir, com id, nome, quantidade e preço\n",
    "    cursor.execute('''\n",
    "    CREATE TABLE IF NOT EXISTS produtos (\n",
    "        id INTEGER PRIMARY KEY AUTOINCREMENT,\n",
    "        nome TEXT NOT NULL,\n",
    "        quantidade INTEGER NOT NULL,\n",
    "        preco REAL NOT NULL\n",
    "    )\n",
    "    ''')\n",
    "    conn.commit()  # Salva as mudanças\n",
    "    return conn  # Retorna a conexão com o banco de dados\n",
    "\n",
    "# Função para fechar a conexão com o banco de dados\n",
    "def close_db(conn):\n",
    "    conn.close()  # Fecha a conexão com o banco de dados\n"
   ]
  },
  {
   "cell_type": "markdown",
   "metadata": {},
   "source": [
    "Essas funções permitem que você adicione, liste, atualize e remova produtos da tabela produtos no banco de dados SQLite."
   ]
  },
  {
   "cell_type": "code",
   "execution_count": 3,
   "metadata": {},
   "outputs": [],
   "source": [
    "# Função para adicionar um produto ao banco de dados\n",
    "def adicionar_produto(nome, quantidade, preco):\n",
    "    conn = connect_db()  # Conecta ao banco de dados\n",
    "    cursor = conn.cursor()  # Cria um cursor para executar comandos SQL\n",
    "    # Insere um novo produto no banco de dados\n",
    "    cursor.execute('''\n",
    "    INSERT INTO produtos (nome, quantidade, preco) VALUES (?, ?, ?)\n",
    "    ''', (nome, quantidade, preco))\n",
    "    conn.commit()  # Salva as mudanças no banco de dados\n",
    "    close_db(conn)  # Fecha a conexão com o banco de dados\n",
    "\n",
    "# Função para listar todos os produtos cadastrados no banco de dados\n",
    "def listar_produtos():\n",
    "    conn = connect_db()  # Conecta ao banco de dados\n",
    "    cursor = conn.cursor()  # Cria um cursor para executar comandos SQL\n",
    "    cursor.execute('SELECT * FROM produtos')  # Seleciona todos os produtos da tabela\n",
    "    produtos = cursor.fetchall()  # Busca todos os resultados\n",
    "    close_db(conn)  # Fecha a conexão com o banco de dados\n",
    "    return produtos  # Retorna a lista de produtos\n",
    "\n",
    "# Função para atualizar os dados de um produto\n",
    "def atualizar_produto(id_produto, nome, quantidade, preco):\n",
    "    conn = connect_db()  # Conecta ao banco de dados\n",
    "    cursor = conn.cursor()  # Cria um cursor para executar comandos SQL\n",
    "    # Atualiza o produto com base no ID fornecido\n",
    "    cursor.execute('''\n",
    "    UPDATE produtos\n",
    "    SET nome = ?, quantidade = ?, preco = ?\n",
    "    WHERE id = ?\n",
    "    ''', (nome, quantidade, preco, id_produto))\n",
    "    conn.commit()  # Salva as mudanças no banco de dados\n",
    "    close_db(conn)  # Fecha a conexão com o banco de dados\n",
    "\n",
    "# Função para remover um produto do banco de dados\n",
    "def remover_produto(id_produto):\n",
    "    conn = connect_db()  # Conecta ao banco de dados\n",
    "    cursor = conn.cursor()  # Cria um cursor para executar comandos SQL\n",
    "    # Remove o produto com base no ID fornecido\n",
    "    cursor.execute('DELETE FROM produtos WHERE id = ?', (id_produto,))\n",
    "    conn.commit()  # Salva as mudanças no banco de dados\n",
    "    close_db(conn)  # Fecha a conexão com o banco de dados\n"
   ]
  },
  {
   "cell_type": "markdown",
   "metadata": {},
   "source": [
    "Esta função simplesmente formata os dados do produto para serem exibidos de maneira mais legível no notebook."
   ]
  },
  {
   "cell_type": "code",
   "execution_count": 4,
   "metadata": {},
   "outputs": [],
   "source": [
    "# Função para formatar as informações de um produto\n",
    "def formatar_produto(produto):\n",
    "    return f\"ID: {produto[0]}, Nome: {produto[1]}, Quantidade: {produto[2]}, Preço: R${produto[3]:.2f}\"\n"
   ]
  },
  {
   "cell_type": "code",
   "execution_count": 5,
   "metadata": {},
   "outputs": [],
   "source": [
    "# Adicionando um novo produto\n",
    "adicionar_produto(\"Teclado\", 10, 150.0)  # Nome: Teclado, Quantidade: 10, Preço: 150.0\n"
   ]
  },
  {
   "cell_type": "code",
   "execution_count": 9,
   "metadata": {},
   "outputs": [
    {
     "data": {
      "text/html": [
       "<div>\n",
       "<style scoped>\n",
       "    .dataframe tbody tr th:only-of-type {\n",
       "        vertical-align: middle;\n",
       "    }\n",
       "\n",
       "    .dataframe tbody tr th {\n",
       "        vertical-align: top;\n",
       "    }\n",
       "\n",
       "    .dataframe thead th {\n",
       "        text-align: right;\n",
       "    }\n",
       "</style>\n",
       "<table border=\"1\" class=\"dataframe\">\n",
       "  <thead>\n",
       "    <tr style=\"text-align: right;\">\n",
       "      <th></th>\n",
       "      <th>ID</th>\n",
       "      <th>Nome</th>\n",
       "      <th>Quantidade</th>\n",
       "      <th>Preço</th>\n",
       "    </tr>\n",
       "  </thead>\n",
       "  <tbody>\n",
       "    <tr>\n",
       "      <th>0</th>\n",
       "      <td>1</td>\n",
       "      <td>Teclado</td>\n",
       "      <td>10</td>\n",
       "      <td>150.0</td>\n",
       "    </tr>\n",
       "    <tr>\n",
       "      <th>1</th>\n",
       "      <td>2</td>\n",
       "      <td>microondas</td>\n",
       "      <td>3</td>\n",
       "      <td>400.0</td>\n",
       "    </tr>\n",
       "  </tbody>\n",
       "</table>\n",
       "</div>"
      ],
      "text/plain": [
       "   ID        Nome  Quantidade  Preço\n",
       "0   1     Teclado          10  150.0\n",
       "1   2  microondas           3  400.0"
      ]
     },
     "metadata": {},
     "output_type": "display_data"
    }
   ],
   "source": [
    "import sqlite3\n",
    "import pandas as pd\n",
    "from IPython.display import display\n",
    "\n",
    "# Funções do banco de dados (mesmas usadas no Tkinter)\n",
    "\n",
    "def connect_db():\n",
    "    conn = sqlite3.connect('estoque.db')\n",
    "    cursor = conn.cursor()\n",
    "    cursor.execute('''\n",
    "    CREATE TABLE IF NOT EXISTS produtos (\n",
    "        id INTEGER PRIMARY KEY AUTOINCREMENT,\n",
    "        nome TEXT NOT NULL,\n",
    "        quantidade INTEGER NOT NULL,\n",
    "        preco REAL NOT NULL\n",
    "    )\n",
    "    ''')\n",
    "    conn.commit()\n",
    "    return conn\n",
    "\n",
    "def close_db(conn):\n",
    "    conn.close()\n",
    "\n",
    "def adicionar_produto(nome, quantidade, preco):\n",
    "    conn = connect_db()\n",
    "    cursor = conn.cursor()\n",
    "    cursor.execute('INSERT INTO produtos (nome, quantidade, preco) VALUES (?, ?, ?)', (nome, quantidade, preco))\n",
    "    conn.commit()\n",
    "    close_db(conn)\n",
    "\n",
    "def listar_produtos():\n",
    "    conn = connect_db()\n",
    "    cursor = conn.cursor()\n",
    "    cursor.execute('SELECT * FROM produtos')\n",
    "    produtos = cursor.fetchall()  # Obter todos os produtos como uma lista\n",
    "    close_db(conn)\n",
    "    return produtos\n",
    "\n",
    "# Função para exibir os produtos como tabela no Jupyter Notebook\n",
    "def exibir_estoque_tabela():\n",
    "    produtos = listar_produtos()  # Listar produtos do banco de dados\n",
    "    if produtos:\n",
    "        df = pd.DataFrame(produtos, columns=['ID', 'Nome', 'Quantidade', 'Preço'])  # Criar DataFrame com os produtos\n",
    "        display(df)  # Exibir tabela no Jupyter Notebook\n",
    "    else:\n",
    "        print(\"Nenhum produto cadastrado.\")\n",
    "\n",
    "# Exibir os produtos na tabela\n",
    "exibir_estoque_tabela()\n"
   ]
  }
 ],
 "metadata": {
  "kernelspec": {
   "display_name": "Python 3",
   "language": "python",
   "name": "python3"
  },
  "language_info": {
   "codemirror_mode": {
    "name": "ipython",
    "version": 3
   },
   "file_extension": ".py",
   "mimetype": "text/x-python",
   "name": "python",
   "nbconvert_exporter": "python",
   "pygments_lexer": "ipython3",
   "version": "3.12.4"
  }
 },
 "nbformat": 4,
 "nbformat_minor": 2
}
